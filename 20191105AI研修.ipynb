{
  "nbformat": 4,
  "nbformat_minor": 0,
  "metadata": {
    "colab": {
      "name": "20191105AI研修.ipynb",
      "provenance": [],
      "include_colab_link": true
    },
    "kernelspec": {
      "name": "python3",
      "display_name": "Python 3"
    }
  },
  "cells": [
    {
      "cell_type": "markdown",
      "metadata": {
        "id": "view-in-github",
        "colab_type": "text"
      },
      "source": [
        "<a href=\"https://colab.research.google.com/github/hiroshi-K-I/data-sci/blob/master/20191105AI%E7%A0%94%E4%BF%AE.ipynb\" target=\"_parent\"><img src=\"https://colab.research.google.com/assets/colab-badge.svg\" alt=\"Open In Colab\"/></a>"
      ]
    },
    {
      "cell_type": "markdown",
      "metadata": {
        "id": "SZGKU6PavuSS",
        "colab_type": "text"
      },
      "source": [
        "# AI概要"
      ]
    },
    {
      "cell_type": "markdown",
      "metadata": {
        "id": "7laINNbAvsJd",
        "colab_type": "text"
      },
      "source": [
        "## AIの歴史と定義\n",
        "\n",
        "- 人工知能の明確な定義はない。だからAIの議論をする際は、まず定義を共有する必要がある。\n",
        "- 強いAI、弱いAI\n",
        "- 第三次AIブームのきっかけ：ビックデータ、GPU、ディープラーニング\n",
        "- 現在のAI（と呼ばれているもの）の３分類：探索アルゴリズム、エキスパートシステム、機械学習\n",
        "- DNN（ディープニューラルネットワーク）:中間層が複数あるNN\n",
        "- 代表的なDNNの種類\n",
        "  - CNN:画像認識によく使用される\n",
        "  - RNN:音声認識や自然言語処理など、順序が意味を持つデータを処理する"
      ]
    },
    {
      "cell_type": "code",
      "metadata": {
        "id": "6SAWSS2wv_Nq",
        "colab_type": "code",
        "colab": {}
      },
      "source": [
        ""
      ],
      "execution_count": 0,
      "outputs": []
    }
  ]
}