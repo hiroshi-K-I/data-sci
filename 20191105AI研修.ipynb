{
  "nbformat": 4,
  "nbformat_minor": 0,
  "metadata": {
    "colab": {
      "name": "20191105AI研修.ipynb",
      "provenance": [],
      "include_colab_link": true
    },
    "kernelspec": {
      "name": "python3",
      "display_name": "Python 3"
    }
  },
  "cells": [
    {
      "cell_type": "markdown",
      "metadata": {
        "id": "view-in-github",
        "colab_type": "text"
      },
      "source": [
        "<a href=\"https://colab.research.google.com/github/hiroshi-K-I/data-sci/blob/master/20191105AI%E7%A0%94%E4%BF%AE.ipynb\" target=\"_parent\"><img src=\"https://colab.research.google.com/assets/colab-badge.svg\" alt=\"Open In Colab\"/></a>"
      ]
    },
    {
      "cell_type": "markdown",
      "metadata": {
        "id": "SZGKU6PavuSS",
        "colab_type": "text"
      },
      "source": [
        "# AI概要"
      ]
    },
    {
      "cell_type": "markdown",
      "metadata": {
        "id": "7laINNbAvsJd",
        "colab_type": "text"
      },
      "source": [
        "## AIの歴史と定義\n",
        "\n",
        "- 人工知能の明確な定義はない。だからAIの議論をする際は、まず定義を共有する必要がある。\n",
        "- 強いAI、弱いAI\n",
        "- 第三次AIブームのきっかけ：ビックデータ、GPU、ディープラーニング\n",
        "- 現在のAI（と呼ばれているもの）の３分類：探索アルゴリズム、エキスパートシステム、機械学習\n",
        "- DNN（ディープニューラルネットワーク）:中間層が複数あるNN\n",
        "- 代表的なDNNの種類\n",
        "  - CNN:画像認識によく使用される\n",
        "  - RNN:音声認識や自然言語処理など、順序が意味を持つデータを処理する"
      ]
    },
    {
      "cell_type": "markdown",
      "metadata": {
        "id": "34VENKlwPp08",
        "colab_type": "text"
      },
      "source": [
        "# Pythonの基礎 "
      ]
    },
    {
      "cell_type": "code",
      "metadata": {
        "id": "6SAWSS2wv_Nq",
        "colab_type": "code",
        "colab": {
          "base_uri": "https://localhost:8080/",
          "height": 35
        },
        "outputId": "931d2d89-5c83-4819-b4c9-bcb3ffb16f98"
      },
      "source": [
        "print(\"Hello, World!\")"
      ],
      "execution_count": 2,
      "outputs": [
        {
          "output_type": "stream",
          "text": [
            "Hello, World!\n"
          ],
          "name": "stdout"
        }
      ]
    },
    {
      "cell_type": "markdown",
      "metadata": {
        "id": "wVsIVUInQ_IW",
        "colab_type": "text"
      },
      "source": [
        "# データ型"
      ]
    },
    {
      "cell_type": "code",
      "metadata": {
        "id": "L2FbdOmDP31F",
        "colab_type": "code",
        "colab": {
          "base_uri": "https://localhost:8080/",
          "height": 126
        },
        "outputId": "8860d29c-e4c3-4a2a-c5a4-ae59ff164e4b"
      },
      "source": [
        "old = 33\n",
        "foot_size = 27.5\n",
        "birth_place = \"japan\"\n",
        "is_male = True\n",
        "favorite_fruits = [\"apple\", \"peal\"]\n",
        "name = (\"Kou\", \"Iwasaki\")\n",
        "\n",
        "print(type(old), old)\n",
        "print(type(foot_size), foot_size)\n",
        "print(type(birth_place), birth_place)\n",
        "print(type(is_male), is_male)\n",
        "print(type(favorite_fruits), favorite_fruits)\n",
        "print(type(name), name)"
      ],
      "execution_count": 7,
      "outputs": [
        {
          "output_type": "stream",
          "text": [
            "<class 'int'> 33\n",
            "<class 'float'> 27.5\n",
            "<class 'str'> japan\n",
            "<class 'bool'> True\n",
            "<class 'list'> ['apple', 'peal']\n",
            "<class 'tuple'> ('Kou', 'Iwasaki')\n"
          ],
          "name": "stdout"
        }
      ]
    },
    {
      "cell_type": "code",
      "metadata": {
        "id": "7Rfn0vY8S1Rd",
        "colab_type": "code",
        "colab": {
          "base_uri": "https://localhost:8080/",
          "height": 35
        },
        "outputId": "60656b20-eb18-48bd-e5d3-bdfb5ff61607"
      },
      "source": [
        "a = 8\n",
        "b = 3\n",
        "x = 2.0\n",
        "\n",
        "print(a + b, a + x, a - b, b * x, a / x, a / b, a // b, a % b, b ** a)"
      ],
      "execution_count": 10,
      "outputs": [
        {
          "output_type": "stream",
          "text": [
            "11 10.0 5 6.0 4.0 2.6666666666666665 2 2 6561\n"
          ],
          "name": "stdout"
        }
      ]
    },
    {
      "cell_type": "code",
      "metadata": {
        "id": "TojyESCJV-2O",
        "colab_type": "code",
        "colab": {
          "base_uri": "https://localhost:8080/",
          "height": 35
        },
        "outputId": "bf89bc11-6980-4562-9ba9-5bb6e52e4a6a"
      },
      "source": [
        "y = [[1, 2, 3], [4, 5, 6]]\n",
        "print(y[1][2])"
      ],
      "execution_count": 15,
      "outputs": [
        {
          "output_type": "stream",
          "text": [
            "6\n"
          ],
          "name": "stdout"
        }
      ]
    },
    {
      "cell_type": "code",
      "metadata": {
        "id": "4bKGHg4EYUIZ",
        "colab_type": "code",
        "colab": {
          "base_uri": "https://localhost:8080/",
          "height": 71
        },
        "outputId": "6d6b9b58-2a05-4256-c306-95ad49714d99"
      },
      "source": [
        "a = [23,470,78,0,-12]\n",
        "b = [\"月\",\"火\",\"水\",\"木\",\"金\",\"土\",\"日\"]\n",
        "c = [[1,2,3],[4,5,6],[7,8,9]]\n",
        "\n",
        "print(\"1.\",a[0])\n",
        "print(\"2.\",b[4])\n",
        "print(\"3.\",c[1],c[2][2])"
      ],
      "execution_count": 18,
      "outputs": [
        {
          "output_type": "stream",
          "text": [
            "1. 23\n",
            "2. 金\n",
            "3. [4, 5, 6] 9\n"
          ],
          "name": "stdout"
        }
      ]
    },
    {
      "cell_type": "code",
      "metadata": {
        "id": "ck0-wWVfZZJe",
        "colab_type": "code",
        "colab": {
          "base_uri": "https://localhost:8080/",
          "height": 91
        },
        "outputId": "39bfbc9c-6c4b-44ca-ec73-cbea3e11c524"
      },
      "source": [
        "r1 = range(0,16)\n",
        "l1 = list(r1)\n",
        "r2 = range(100,121)\n",
        "l2 = list(r2)\n",
        "r3 = range(10,55,5)\n",
        "l3 = list(r3)\n",
        "\n",
        "print(len(l1),l1)\n",
        "print(len(l2),l2)\n",
        "print(len(l3),l3)"
      ],
      "execution_count": 22,
      "outputs": [
        {
          "output_type": "stream",
          "text": [
            "16 [0, 1, 2, 3, 4, 5, 6, 7, 8, 9, 10, 11, 12, 13, 14, 15]\n",
            "21 [100, 101, 102, 103, 104, 105, 106, 107, 108, 109, 110, 111, 112, 113, 114, 115, 116, 117, 118, 119, 120]\n",
            "9 [10, 15, 20, 25, 30, 35, 40, 45, 50]\n"
          ],
          "name": "stdout"
        }
      ]
    },
    {
      "cell_type": "code",
      "metadata": {
        "id": "39JvhXAAbY-D",
        "colab_type": "code",
        "colab": {}
      },
      "source": [
        ""
      ],
      "execution_count": 0,
      "outputs": []
    }
  ]
}