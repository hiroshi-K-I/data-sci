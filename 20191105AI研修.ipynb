{
  "nbformat": 4,
  "nbformat_minor": 0,
  "metadata": {
    "colab": {
      "name": "20191105AI研修.ipynb",
      "provenance": [],
      "include_colab_link": true
    },
    "kernelspec": {
      "name": "python3",
      "display_name": "Python 3"
    }
  },
  "cells": [
    {
      "cell_type": "markdown",
      "metadata": {
        "id": "view-in-github",
        "colab_type": "text"
      },
      "source": [
        "<a href=\"https://colab.research.google.com/github/hiroshi-K-I/data-sci/blob/master/20191105AI%E7%A0%94%E4%BF%AE.ipynb\" target=\"_parent\"><img src=\"https://colab.research.google.com/assets/colab-badge.svg\" alt=\"Open In Colab\"/></a>"
      ]
    },
    {
      "cell_type": "markdown",
      "metadata": {
        "id": "SZGKU6PavuSS",
        "colab_type": "text"
      },
      "source": [
        "# AI概要"
      ]
    },
    {
      "cell_type": "markdown",
      "metadata": {
        "id": "7laINNbAvsJd",
        "colab_type": "text"
      },
      "source": [
        "## AIの歴史と定義\n",
        "\n",
        "- 人工知能の明確な定義はない。だからAIの議論をする際は、まず定義を共有する必要がある。\n",
        "- 強いAI、弱いAI\n",
        "- 第三次AIブームのきっかけ：ビックデータ、GPU、ディープラーニング\n",
        "- 現在のAI（と呼ばれているもの）の３分類：探索アルゴリズム、エキスパートシステム、機械学習\n",
        "- DNN（ディープニューラルネットワーク）:中間層が複数あるNN\n",
        "- 代表的なDNNの種類\n",
        "  - CNN:画像認識によく使用される\n",
        "  - RNN:音声認識や自然言語処理など、順序が意味を持つデータを処理する"
      ]
    },
    {
      "cell_type": "markdown",
      "metadata": {
        "id": "34VENKlwPp08",
        "colab_type": "text"
      },
      "source": [
        "# Pythonの基礎 "
      ]
    },
    {
      "cell_type": "code",
      "metadata": {
        "id": "6SAWSS2wv_Nq",
        "colab_type": "code",
        "outputId": "931d2d89-5c83-4819-b4c9-bcb3ffb16f98",
        "colab": {
          "base_uri": "https://localhost:8080/",
          "height": 35
        }
      },
      "source": [
        "print(\"Hello, World!\")"
      ],
      "execution_count": 0,
      "outputs": [
        {
          "output_type": "stream",
          "text": [
            "Hello, World!\n"
          ],
          "name": "stdout"
        }
      ]
    },
    {
      "cell_type": "markdown",
      "metadata": {
        "id": "wVsIVUInQ_IW",
        "colab_type": "text"
      },
      "source": [
        "# データ型"
      ]
    },
    {
      "cell_type": "code",
      "metadata": {
        "id": "L2FbdOmDP31F",
        "colab_type": "code",
        "outputId": "8860d29c-e4c3-4a2a-c5a4-ae59ff164e4b",
        "colab": {
          "base_uri": "https://localhost:8080/",
          "height": 126
        }
      },
      "source": [
        "old = 33\n",
        "foot_size = 27.5\n",
        "birth_place = \"japan\"\n",
        "is_male = True\n",
        "favorite_fruits = [\"apple\", \"peal\"]\n",
        "name = (\"Kou\", \"Iwasaki\")\n",
        "\n",
        "print(type(old), old)\n",
        "print(type(foot_size), foot_size)\n",
        "print(type(birth_place), birth_place)\n",
        "print(type(is_male), is_male)\n",
        "print(type(favorite_fruits), favorite_fruits)\n",
        "print(type(name), name)"
      ],
      "execution_count": 0,
      "outputs": [
        {
          "output_type": "stream",
          "text": [
            "<class 'int'> 33\n",
            "<class 'float'> 27.5\n",
            "<class 'str'> japan\n",
            "<class 'bool'> True\n",
            "<class 'list'> ['apple', 'peal']\n",
            "<class 'tuple'> ('Kou', 'Iwasaki')\n"
          ],
          "name": "stdout"
        }
      ]
    },
    {
      "cell_type": "code",
      "metadata": {
        "id": "7Rfn0vY8S1Rd",
        "colab_type": "code",
        "outputId": "60656b20-eb18-48bd-e5d3-bdfb5ff61607",
        "colab": {
          "base_uri": "https://localhost:8080/",
          "height": 35
        }
      },
      "source": [
        "a = 8\n",
        "b = 3\n",
        "x = 2.0\n",
        "\n",
        "print(a + b, a + x, a - b, b * x, a / x, a / b, a // b, a % b, b ** a)"
      ],
      "execution_count": 0,
      "outputs": [
        {
          "output_type": "stream",
          "text": [
            "11 10.0 5 6.0 4.0 2.6666666666666665 2 2 6561\n"
          ],
          "name": "stdout"
        }
      ]
    },
    {
      "cell_type": "code",
      "metadata": {
        "id": "TojyESCJV-2O",
        "colab_type": "code",
        "outputId": "bf89bc11-6980-4562-9ba9-5bb6e52e4a6a",
        "colab": {
          "base_uri": "https://localhost:8080/",
          "height": 35
        }
      },
      "source": [
        "y = [[1, 2, 3], [4, 5, 6]]\n",
        "print(y[1][2])"
      ],
      "execution_count": 0,
      "outputs": [
        {
          "output_type": "stream",
          "text": [
            "6\n"
          ],
          "name": "stdout"
        }
      ]
    },
    {
      "cell_type": "code",
      "metadata": {
        "id": "4bKGHg4EYUIZ",
        "colab_type": "code",
        "outputId": "6d6b9b58-2a05-4256-c306-95ad49714d99",
        "colab": {
          "base_uri": "https://localhost:8080/",
          "height": 71
        }
      },
      "source": [
        "a = [23,470,78,0,-12]\n",
        "b = [\"月\",\"火\",\"水\",\"木\",\"金\",\"土\",\"日\"]\n",
        "c = [[1,2,3],[4,5,6],[7,8,9]]\n",
        "\n",
        "print(\"1.\",a[0])\n",
        "print(\"2.\",b[4])\n",
        "print(\"3.\",c[1],c[2][2])"
      ],
      "execution_count": 0,
      "outputs": [
        {
          "output_type": "stream",
          "text": [
            "1. 23\n",
            "2. 金\n",
            "3. [4, 5, 6] 9\n"
          ],
          "name": "stdout"
        }
      ]
    },
    {
      "cell_type": "code",
      "metadata": {
        "id": "ck0-wWVfZZJe",
        "colab_type": "code",
        "outputId": "39bfbc9c-6c4b-44ca-ec73-cbea3e11c524",
        "colab": {
          "base_uri": "https://localhost:8080/",
          "height": 91
        }
      },
      "source": [
        "r1 = range(0,16)\n",
        "l1 = list(r1)\n",
        "r2 = range(100,121)\n",
        "l2 = list(r2)\n",
        "r3 = range(10,55,5)\n",
        "l3 = list(r3)\n",
        "\n",
        "print(len(l1),l1)\n",
        "print(len(l2),l2)\n",
        "print(len(l3),l3)"
      ],
      "execution_count": 0,
      "outputs": [
        {
          "output_type": "stream",
          "text": [
            "16 [0, 1, 2, 3, 4, 5, 6, 7, 8, 9, 10, 11, 12, 13, 14, 15]\n",
            "21 [100, 101, 102, 103, 104, 105, 106, 107, 108, 109, 110, 111, 112, 113, 114, 115, 116, 117, 118, 119, 120]\n",
            "9 [10, 15, 20, 25, 30, 35, 40, 45, 50]\n"
          ],
          "name": "stdout"
        }
      ]
    },
    {
      "cell_type": "code",
      "metadata": {
        "id": "39JvhXAAbY-D",
        "colab_type": "code",
        "outputId": "70f94c4e-37f8-4cfc-abff-aeeafd2a8a38",
        "colab": {
          "base_uri": "https://localhost:8080/",
          "height": 71
        }
      },
      "source": [
        "a = (23,470,78,0,-12)\n",
        "b = (\"月\",\"火\",\"水\",\"木\",\"金\",\"土\",\"日\")\n",
        "c = ((1,2,3),(4,5,6),(7,8,9))\n",
        "\n",
        "print(\"1.\",a[0])\n",
        "print(\"2.\",b[4])\n",
        "print(\"3.\",c[1],c[2][2])"
      ],
      "execution_count": 0,
      "outputs": [
        {
          "output_type": "stream",
          "text": [
            "1. 23\n",
            "2. 金\n",
            "3. (4, 5, 6) 9\n"
          ],
          "name": "stdout"
        }
      ]
    },
    {
      "cell_type": "code",
      "metadata": {
        "id": "s-lCMooad4wH",
        "colab_type": "code",
        "colab": {
          "base_uri": "https://localhost:8080/",
          "height": 34
        },
        "outputId": "09471483-638d-4458-99de-fdc1d609e804"
      },
      "source": [
        "x = range(1,21,1)\n",
        "l1 = list(x)\n",
        "print(l1)"
      ],
      "execution_count": 4,
      "outputs": [
        {
          "output_type": "stream",
          "text": [
            "[1, 2, 3, 4, 5, 6, 7, 8, 9, 10, 11, 12, 13, 14, 15, 16, 17, 18, 19, 20]\n"
          ],
          "name": "stdout"
        }
      ]
    },
    {
      "cell_type": "code",
      "metadata": {
        "id": "79QLW81w6Edl",
        "colab_type": "code",
        "colab": {
          "base_uri": "https://localhost:8080/",
          "height": 70
        },
        "outputId": "012cd4d6-c1c7-4bfa-bd38-f764e136f09e"
      },
      "source": [
        "print(l1[0:21])\n",
        "print(l1[4:17])\n",
        "print(l1[0:21:3])"
      ],
      "execution_count": 10,
      "outputs": [
        {
          "output_type": "stream",
          "text": [
            "[1, 2, 3, 4, 5, 6, 7, 8, 9, 10, 11, 12, 13, 14, 15, 16, 17, 18, 19, 20]\n",
            "[5, 6, 7, 8, 9, 10, 11, 12, 13, 14, 15, 16, 17]\n",
            "[1, 4, 7, 10, 13, 16, 19]\n"
          ],
          "name": "stdout"
        }
      ]
    },
    {
      "cell_type": "code",
      "metadata": {
        "id": "pMhzA-Zh6jTz",
        "colab_type": "code",
        "colab": {
          "base_uri": "https://localhost:8080/",
          "height": 70
        },
        "outputId": "7105546f-8358-43e0-c9a9-88a734da2585"
      },
      "source": [
        "your_info = {\n",
        "    \"name\":\"koh\",\n",
        "    \"age\":33,\n",
        "    \"birthplace\":\"miyagi\"\n",
        "}\n",
        "print(\"名前：\",your_info[\"name\"])\n",
        "print(your_info[\"age\"])\n",
        "print(your_info[\"birthplace\"])"
      ],
      "execution_count": 14,
      "outputs": [
        {
          "output_type": "stream",
          "text": [
            "名前： koh\n",
            "33\n",
            "miyagi\n"
          ],
          "name": "stdout"
        }
      ]
    },
    {
      "cell_type": "code",
      "metadata": {
        "id": "HgmW4-Lm82n_",
        "colab_type": "code",
        "colab": {
          "base_uri": "https://localhost:8080/",
          "height": 34
        },
        "outputId": "36347cfe-d48a-4cd7-8fb2-43cc3944c45c"
      },
      "source": [
        "x = 3\n",
        "\n",
        "if x % 3 == 0:\n",
        "  print(\"３の倍数です\")\n",
        "else:\n",
        "  print(\"3の倍数ではありません\")"
      ],
      "execution_count": 16,
      "outputs": [
        {
          "output_type": "stream",
          "text": [
            "３の倍数です\n"
          ],
          "name": "stdout"
        }
      ]
    },
    {
      "cell_type": "code",
      "metadata": {
        "id": "KF7B56Qn_yIH",
        "colab_type": "code",
        "colab": {
          "base_uri": "https://localhost:8080/",
          "height": 34
        },
        "outputId": "26b4b2f8-241c-4fa9-ced0-fd9a0dfe8832"
      },
      "source": [
        "year = 2020\n",
        "\n",
        "if year % 4 == 0 and year % 100 != 0 or year % 400 == 0:\n",
        "  print(\"閏年\")\n",
        "else:\n",
        "  print(\"Not閏年\")"
      ],
      "execution_count": 20,
      "outputs": [
        {
          "output_type": "stream",
          "text": [
            "閏年\n"
          ],
          "name": "stdout"
        }
      ]
    },
    {
      "cell_type": "code",
      "metadata": {
        "id": "KFOkjfL6Anfb",
        "colab_type": "code",
        "colab": {
          "base_uri": "https://localhost:8080/",
          "height": 34
        },
        "outputId": "fb102266-759f-4726-e113-d6781029b6ba"
      },
      "source": [
        "holiday = [\"sun\",\"wed\",\"fri\"]\n",
        "day = [\"mon\"]\n",
        "\n",
        "if day in holiday:\n",
        "  print(\"it's holiday\")\n",
        "else:\n",
        "  print(\"Not holiday\")\n"
      ],
      "execution_count": 19,
      "outputs": [
        {
          "output_type": "stream",
          "text": [
            "Not holiday\n"
          ],
          "name": "stdout"
        }
      ]
    },
    {
      "cell_type": "code",
      "metadata": {
        "id": "HkuY9mfwBIfv",
        "colab_type": "code",
        "colab": {
          "base_uri": "https://localhost:8080/",
          "height": 140
        },
        "outputId": "666d491a-46d7-4529-e17d-b1be39ddb04a"
      },
      "source": [
        "week = [\"mon\",\"tue\",\"wed\",\"thu\",\"fri\",\"sat\",\"sun\"]\n",
        "\n",
        "for i in week:\n",
        "  print(i)"
      ],
      "execution_count": 21,
      "outputs": [
        {
          "output_type": "stream",
          "text": [
            "mon\n",
            "tue\n",
            "wed\n",
            "thu\n",
            "fri\n",
            "sat\n",
            "sun\n"
          ],
          "name": "stdout"
        }
      ]
    },
    {
      "cell_type": "code",
      "metadata": {
        "id": "twPcAHxCDajP",
        "colab_type": "code",
        "colab": {
          "base_uri": "https://localhost:8080/",
          "height": 70
        },
        "outputId": "8cc5fec6-654e-487b-cef2-58ed8afedc42"
      },
      "source": [
        "name = [\"a\",\"b\",\"c\"]\n",
        "\n",
        "for i,n in enumerate(name):\n",
        "  print(i,n)"
      ],
      "execution_count": 22,
      "outputs": [
        {
          "output_type": "stream",
          "text": [
            "0 a\n",
            "1 b\n",
            "2 c\n"
          ],
          "name": "stdout"
        }
      ]
    },
    {
      "cell_type": "code",
      "metadata": {
        "id": "ToZSOj84EAfL",
        "colab_type": "code",
        "colab": {
          "base_uri": "https://localhost:8080/",
          "height": 1000
        },
        "outputId": "d4c17f3e-bd4d-4c4e-a1ef-93ec90f48805"
      },
      "source": [
        "years = range(1000,2000)\n",
        "l_years = list(years)\n",
        "\n",
        "for i in l_years:\n",
        "  if i % 4 == 0 and i % 100 != 0 or i % 400 == 0:\n",
        "    print(i)\n",
        "\n",
        "\n"
      ],
      "execution_count": 23,
      "outputs": [
        {
          "output_type": "stream",
          "text": [
            "1004\n",
            "1008\n",
            "1012\n",
            "1016\n",
            "1020\n",
            "1024\n",
            "1028\n",
            "1032\n",
            "1036\n",
            "1040\n",
            "1044\n",
            "1048\n",
            "1052\n",
            "1056\n",
            "1060\n",
            "1064\n",
            "1068\n",
            "1072\n",
            "1076\n",
            "1080\n",
            "1084\n",
            "1088\n",
            "1092\n",
            "1096\n",
            "1104\n",
            "1108\n",
            "1112\n",
            "1116\n",
            "1120\n",
            "1124\n",
            "1128\n",
            "1132\n",
            "1136\n",
            "1140\n",
            "1144\n",
            "1148\n",
            "1152\n",
            "1156\n",
            "1160\n",
            "1164\n",
            "1168\n",
            "1172\n",
            "1176\n",
            "1180\n",
            "1184\n",
            "1188\n",
            "1192\n",
            "1196\n",
            "1200\n",
            "1204\n",
            "1208\n",
            "1212\n",
            "1216\n",
            "1220\n",
            "1224\n",
            "1228\n",
            "1232\n",
            "1236\n",
            "1240\n",
            "1244\n",
            "1248\n",
            "1252\n",
            "1256\n",
            "1260\n",
            "1264\n",
            "1268\n",
            "1272\n",
            "1276\n",
            "1280\n",
            "1284\n",
            "1288\n",
            "1292\n",
            "1296\n",
            "1304\n",
            "1308\n",
            "1312\n",
            "1316\n",
            "1320\n",
            "1324\n",
            "1328\n",
            "1332\n",
            "1336\n",
            "1340\n",
            "1344\n",
            "1348\n",
            "1352\n",
            "1356\n",
            "1360\n",
            "1364\n",
            "1368\n",
            "1372\n",
            "1376\n",
            "1380\n",
            "1384\n",
            "1388\n",
            "1392\n",
            "1396\n",
            "1404\n",
            "1408\n",
            "1412\n",
            "1416\n",
            "1420\n",
            "1424\n",
            "1428\n",
            "1432\n",
            "1436\n",
            "1440\n",
            "1444\n",
            "1448\n",
            "1452\n",
            "1456\n",
            "1460\n",
            "1464\n",
            "1468\n",
            "1472\n",
            "1476\n",
            "1480\n",
            "1484\n",
            "1488\n",
            "1492\n",
            "1496\n",
            "1504\n",
            "1508\n",
            "1512\n",
            "1516\n",
            "1520\n",
            "1524\n",
            "1528\n",
            "1532\n",
            "1536\n",
            "1540\n",
            "1544\n",
            "1548\n",
            "1552\n",
            "1556\n",
            "1560\n",
            "1564\n",
            "1568\n",
            "1572\n",
            "1576\n",
            "1580\n",
            "1584\n",
            "1588\n",
            "1592\n",
            "1596\n",
            "1600\n",
            "1604\n",
            "1608\n",
            "1612\n",
            "1616\n",
            "1620\n",
            "1624\n",
            "1628\n",
            "1632\n",
            "1636\n",
            "1640\n",
            "1644\n",
            "1648\n",
            "1652\n",
            "1656\n",
            "1660\n",
            "1664\n",
            "1668\n",
            "1672\n",
            "1676\n",
            "1680\n",
            "1684\n",
            "1688\n",
            "1692\n",
            "1696\n",
            "1704\n",
            "1708\n",
            "1712\n",
            "1716\n",
            "1720\n",
            "1724\n",
            "1728\n",
            "1732\n",
            "1736\n",
            "1740\n",
            "1744\n",
            "1748\n",
            "1752\n",
            "1756\n",
            "1760\n",
            "1764\n",
            "1768\n",
            "1772\n",
            "1776\n",
            "1780\n",
            "1784\n",
            "1788\n",
            "1792\n",
            "1796\n",
            "1804\n",
            "1808\n",
            "1812\n",
            "1816\n",
            "1820\n",
            "1824\n",
            "1828\n",
            "1832\n",
            "1836\n",
            "1840\n",
            "1844\n",
            "1848\n",
            "1852\n",
            "1856\n",
            "1860\n",
            "1864\n",
            "1868\n",
            "1872\n",
            "1876\n",
            "1880\n",
            "1884\n",
            "1888\n",
            "1892\n",
            "1896\n",
            "1904\n",
            "1908\n",
            "1912\n",
            "1916\n",
            "1920\n",
            "1924\n",
            "1928\n",
            "1932\n",
            "1936\n",
            "1940\n",
            "1944\n",
            "1948\n",
            "1952\n",
            "1956\n",
            "1960\n",
            "1964\n",
            "1968\n",
            "1972\n",
            "1976\n",
            "1980\n",
            "1984\n",
            "1988\n",
            "1992\n",
            "1996\n"
          ],
          "name": "stdout"
        }
      ]
    },
    {
      "cell_type": "code",
      "metadata": {
        "id": "kcG6shwXFB27",
        "colab_type": "code",
        "colab": {
          "base_uri": "https://localhost:8080/",
          "height": 34
        },
        "outputId": "0a1cd902-170f-4f57-9ae1-c523711eebbb"
      },
      "source": [
        "def keisan(a,b):\n",
        "  print(a+b,a-b,a*b,a/b)\n",
        "\n",
        "keisan(1,2)"
      ],
      "execution_count": 24,
      "outputs": [
        {
          "output_type": "stream",
          "text": [
            "3 -1 2 0.5\n"
          ],
          "name": "stdout"
        }
      ]
    },
    {
      "cell_type": "code",
      "metadata": {
        "id": "tlhYQ22cGkGV",
        "colab_type": "code",
        "colab": {}
      },
      "source": [
        ""
      ],
      "execution_count": 0,
      "outputs": []
    }
  ]
}