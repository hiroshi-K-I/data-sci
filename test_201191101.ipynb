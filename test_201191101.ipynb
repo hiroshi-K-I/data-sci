{
  "nbformat": 4,
  "nbformat_minor": 0,
  "metadata": {
    "colab": {
      "name": "Untitled0.ipynb",
      "provenance": [],
      "collapsed_sections": [],
      "include_colab_link": true
    },
    "kernelspec": {
      "name": "python3",
      "display_name": "Python 3"
    }
  },
  "cells": [
    {
      "cell_type": "markdown",
      "metadata": {
        "id": "view-in-github",
        "colab_type": "text"
      },
      "source": [
        "<a href=\"https://colab.research.google.com/github/hiroshi-K-I/data-sci/blob/master/test_201191101.ipynb\" target=\"_parent\"><img src=\"https://colab.research.google.com/assets/colab-badge.svg\" alt=\"Open In Colab\"/></a>"
      ]
    },
    {
      "cell_type": "code",
      "metadata": {
        "id": "K2s7wrk92Cuj",
        "colab_type": "code",
        "colab": {}
      },
      "source": [
        "class Card:\n",
        "    suits = [\"spades\", \"hearts\",\"diamonds\",\"clubs\"]\n",
        "\n",
        "    values = [None, None, \n",
        "              \"2\", \"3\", \"4\", \"5\", \"6\", \"7\", \"8\", \"9\", \n",
        "              \"10\" ,\"Jack\", \"Qween\", \"King\", \"Ace\"]\n",
        "    \n",
        "    def__init__(self, v, s):\n",
        "      \"\"\"suit and value is int only.\"\"\"\n",
        "      self.value = v\n",
        "      self.suit = s\n",
        "\n",
        "    def__lt__(self, c2):\n",
        "      if self.value < c2.value:\n",
        "        return true\n",
        "      if self.value == c2.value:\n",
        "        if self.suit < c2.suit:\n",
        "          return True\n",
        "        else:\n",
        "          return False\n",
        "      return False\n",
        "    \n",
        "    def__gt__(self, c2):\n",
        "      if self.value > c2.value:\n",
        "        return True\n",
        "      if self.value == c2.value:\n",
        "        if self.suit > c2.suit:\n",
        "          return True\n",
        "        else:\n",
        "          return False\n",
        "      return False\n",
        "    \n",
        "    def__repr__(self):\n",
        "      v = self.values[self.value] + \" of \" \\\n",
        "        + self.suits[self.suit]\n",
        "      return v"
      ],
      "execution_count": 0,
      "outputs": []
    }
  ]
}