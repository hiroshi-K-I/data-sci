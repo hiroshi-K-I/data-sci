{
  "nbformat": 4,
  "nbformat_minor": 0,
  "metadata": {
    "colab": {
      "name": "Untitled2.ipynb",
      "provenance": [],
      "include_colab_link": true
    },
    "kernelspec": {
      "name": "python3",
      "display_name": "Python 3"
    }
  },
  "cells": [
    {
      "cell_type": "markdown",
      "metadata": {
        "id": "view-in-github",
        "colab_type": "text"
      },
      "source": [
        "<a href=\"https://colab.research.google.com/github/hiroshi-K-I/data-sci/blob/master/20191106AI%E7%A0%94%E4%BF%AE_DNN.ipynb\" target=\"_parent\"><img src=\"https://colab.research.google.com/assets/colab-badge.svg\" alt=\"Open In Colab\"/></a>"
      ]
    },
    {
      "cell_type": "code",
      "metadata": {
        "id": "BHsiMsjZSXEW",
        "colab_type": "code",
        "colab": {}
      },
      "source": [
        "import keras\n",
        "from keras.datasets import mnist\n",
        "from keras.models import Sequential\n",
        "from keras.layers import Dense,Activation\n",
        "from keras.utils import to_categorical,np_utils\n",
        "import matplotlib.pyplot as plt\n",
        "import numpy as np\n",
        "%matplotlib inline\n",
        "\n",
        "image_size = 28 * 28\n",
        "num_units = 128\n",
        "num_classes = 10\n",
        "epochs = 20"
      ],
      "execution_count": 0,
      "outputs": []
    },
    {
      "cell_type": "code",
      "metadata": {
        "id": "-XkvX2bQVoD0",
        "colab_type": "code",
        "colab": {}
      },
      "source": [
        "(x_train,y_train),(x_test,y_test) = mnist.load_data()\n",
        "\n",
        "x_train = x_train.reshape(-1, image_size)\n",
        "x_test = x_test.reshape(-1, image_size)\n",
        "\n",
        "x_train = x_train.astype('float32')\n",
        "x_test = x_test.astype('float32')\n",
        "x_train = x_train / 255\n",
        "x_test = x_test / 255\n",
        "\n",
        "y_train = to_categorical(y_train, 10)\n",
        "y_test = to_categorical(y_test, 10)"
      ],
      "execution_count": 0,
      "outputs": []
    },
    {
      "cell_type": "code",
      "metadata": {
        "id": "al7iVQPhXJca",
        "colab_type": "code",
        "outputId": "88977c98-ec47-46ee-e155-3a5ec395dde8",
        "colab": {
          "base_uri": "https://localhost:8080/",
          "height": 289
        }
      },
      "source": [
        "model = Sequential()\n",
        "\n",
        "model.add(Dense(num_units, input_dim = image_size))\n",
        "model.add(Activation(\"relu\"))\n",
        "\n",
        "model.add(Dense(num_classes, input_dim = num_units))\n",
        "model.add(Activation(\"softmax\"))\n",
        "\n",
        "model.compile(optimizer = \"sgd\", loss = \"categorical_crossentropy\",metrics=[\"accuracy\"])\n",
        "\n",
        "model.summary()"
      ],
      "execution_count": 13,
      "outputs": [
        {
          "output_type": "stream",
          "text": [
            "Model: \"sequential_4\"\n",
            "_________________________________________________________________\n",
            "Layer (type)                 Output Shape              Param #   \n",
            "=================================================================\n",
            "dense_7 (Dense)              (None, 128)               100480    \n",
            "_________________________________________________________________\n",
            "activation_7 (Activation)    (None, 128)               0         \n",
            "_________________________________________________________________\n",
            "dense_8 (Dense)              (None, 10)                1290      \n",
            "_________________________________________________________________\n",
            "activation_8 (Activation)    (None, 10)                0         \n",
            "=================================================================\n",
            "Total params: 101,770\n",
            "Trainable params: 101,770\n",
            "Non-trainable params: 0\n",
            "_________________________________________________________________\n"
          ],
          "name": "stdout"
        }
      ]
    },
    {
      "cell_type": "code",
      "metadata": {
        "id": "tl-bMyyCe4Y_",
        "colab_type": "code",
        "outputId": "a1062cec-4b7c-44f8-e079-ba7a9a9487c1",
        "colab": {
          "base_uri": "https://localhost:8080/",
          "height": 1000
        }
      },
      "source": [
        "history = model.fit(x_train, y_train, validation_data=(x_test, y_test),epochs=epochs)\n",
        "score = model.evaluate(x_test,y_test, verbose=0)\n",
        "print(score[0])\n",
        "\n",
        "print(score[1])"
      ],
      "execution_count": 14,
      "outputs": [
        {
          "output_type": "stream",
          "text": [
            "WARNING:tensorflow:From /usr/local/lib/python3.6/dist-packages/tensorflow_core/python/ops/math_grad.py:1424: where (from tensorflow.python.ops.array_ops) is deprecated and will be removed in a future version.\n",
            "Instructions for updating:\n",
            "Use tf.where in 2.0, which has the same broadcast rule as np.where\n",
            "WARNING:tensorflow:From /usr/local/lib/python3.6/dist-packages/keras/backend/tensorflow_backend.py:1033: The name tf.assign_add is deprecated. Please use tf.compat.v1.assign_add instead.\n",
            "\n",
            "WARNING:tensorflow:From /usr/local/lib/python3.6/dist-packages/keras/backend/tensorflow_backend.py:1020: The name tf.assign is deprecated. Please use tf.compat.v1.assign instead.\n",
            "\n",
            "WARNING:tensorflow:From /usr/local/lib/python3.6/dist-packages/keras/backend/tensorflow_backend.py:3005: The name tf.Session is deprecated. Please use tf.compat.v1.Session instead.\n",
            "\n",
            "Train on 60000 samples, validate on 10000 samples\n",
            "Epoch 1/20\n",
            "WARNING:tensorflow:From /usr/local/lib/python3.6/dist-packages/keras/backend/tensorflow_backend.py:190: The name tf.get_default_session is deprecated. Please use tf.compat.v1.get_default_session instead.\n",
            "\n",
            "WARNING:tensorflow:From /usr/local/lib/python3.6/dist-packages/keras/backend/tensorflow_backend.py:197: The name tf.ConfigProto is deprecated. Please use tf.compat.v1.ConfigProto instead.\n",
            "\n",
            "WARNING:tensorflow:From /usr/local/lib/python3.6/dist-packages/keras/backend/tensorflow_backend.py:207: The name tf.global_variables is deprecated. Please use tf.compat.v1.global_variables instead.\n",
            "\n",
            "WARNING:tensorflow:From /usr/local/lib/python3.6/dist-packages/keras/backend/tensorflow_backend.py:216: The name tf.is_variable_initialized is deprecated. Please use tf.compat.v1.is_variable_initialized instead.\n",
            "\n",
            "WARNING:tensorflow:From /usr/local/lib/python3.6/dist-packages/keras/backend/tensorflow_backend.py:223: The name tf.variables_initializer is deprecated. Please use tf.compat.v1.variables_initializer instead.\n",
            "\n",
            "60000/60000 [==============================] - 5s 89us/step - loss: 0.6406 - acc: 0.8367 - val_loss: 0.3523 - val_acc: 0.9031\n",
            "Epoch 2/20\n",
            "60000/60000 [==============================] - 4s 74us/step - loss: 0.3373 - acc: 0.9056 - val_loss: 0.2940 - val_acc: 0.9187\n",
            "Epoch 3/20\n",
            "60000/60000 [==============================] - 5s 75us/step - loss: 0.2898 - acc: 0.9180 - val_loss: 0.2638 - val_acc: 0.9271\n",
            "Epoch 4/20\n",
            "60000/60000 [==============================] - 4s 75us/step - loss: 0.2598 - acc: 0.9267 - val_loss: 0.2385 - val_acc: 0.9323\n",
            "Epoch 5/20\n",
            "60000/60000 [==============================] - 4s 73us/step - loss: 0.2371 - acc: 0.9332 - val_loss: 0.2215 - val_acc: 0.9365\n",
            "Epoch 6/20\n",
            "60000/60000 [==============================] - 5s 76us/step - loss: 0.2185 - acc: 0.9388 - val_loss: 0.2039 - val_acc: 0.9423\n",
            "Epoch 7/20\n",
            "60000/60000 [==============================] - 4s 74us/step - loss: 0.2028 - acc: 0.9426 - val_loss: 0.1918 - val_acc: 0.9462\n",
            "Epoch 8/20\n",
            "60000/60000 [==============================] - 4s 74us/step - loss: 0.1892 - acc: 0.9471 - val_loss: 0.1808 - val_acc: 0.9498\n",
            "Epoch 9/20\n",
            "60000/60000 [==============================] - 4s 75us/step - loss: 0.1775 - acc: 0.9497 - val_loss: 0.1717 - val_acc: 0.9509\n",
            "Epoch 10/20\n",
            "60000/60000 [==============================] - 4s 73us/step - loss: 0.1672 - acc: 0.9530 - val_loss: 0.1638 - val_acc: 0.9533\n",
            "Epoch 11/20\n",
            "60000/60000 [==============================] - 5s 75us/step - loss: 0.1580 - acc: 0.9557 - val_loss: 0.1547 - val_acc: 0.9562\n",
            "Epoch 12/20\n",
            "60000/60000 [==============================] - 4s 74us/step - loss: 0.1500 - acc: 0.9576 - val_loss: 0.1501 - val_acc: 0.9570\n",
            "Epoch 13/20\n",
            "60000/60000 [==============================] - 5s 75us/step - loss: 0.1423 - acc: 0.9603 - val_loss: 0.1433 - val_acc: 0.9584\n",
            "Epoch 14/20\n",
            "60000/60000 [==============================] - 5s 76us/step - loss: 0.1357 - acc: 0.9617 - val_loss: 0.1390 - val_acc: 0.9594\n",
            "Epoch 15/20\n",
            "60000/60000 [==============================] - 5s 75us/step - loss: 0.1297 - acc: 0.9633 - val_loss: 0.1332 - val_acc: 0.9614\n",
            "Epoch 16/20\n",
            "60000/60000 [==============================] - 5s 76us/step - loss: 0.1242 - acc: 0.9648 - val_loss: 0.1277 - val_acc: 0.9621\n",
            "Epoch 17/20\n",
            "60000/60000 [==============================] - 4s 74us/step - loss: 0.1192 - acc: 0.9660 - val_loss: 0.1244 - val_acc: 0.9628\n",
            "Epoch 18/20\n",
            "60000/60000 [==============================] - 4s 74us/step - loss: 0.1142 - acc: 0.9677 - val_loss: 0.1205 - val_acc: 0.9655\n",
            "Epoch 19/20\n",
            "60000/60000 [==============================] - 4s 74us/step - loss: 0.1100 - acc: 0.9689 - val_loss: 0.1169 - val_acc: 0.9657\n",
            "Epoch 20/20\n",
            "60000/60000 [==============================] - 5s 75us/step - loss: 0.1058 - acc: 0.9703 - val_loss: 0.1148 - val_acc: 0.9654\n",
            "0.11475455729998649\n",
            "0.9654\n"
          ],
          "name": "stdout"
        }
      ]
    },
    {
      "cell_type": "code",
      "metadata": {
        "id": "mhKkyo5UYW8H",
        "colab_type": "code",
        "outputId": "f5359241-c327-460f-acb4-80a23082d216",
        "colab": {
          "base_uri": "https://localhost:8080/",
          "height": 498
        }
      },
      "source": [
        "plt.plot(range(1, epochs+1),history.history[\"acc\"], label=\"training\")\n",
        "plt.plot(range(1, epochs+1),history.history[\"val_acc\"], label=\"test\")\n",
        "plt.xlabel(\"Epochs\")\n",
        "plt.ylabel(\"Accuracy\")\n",
        "plt.grid()\n",
        "plt.legend()\n",
        "plot.show()\n",
        "\n",
        "plt.plot(range(1, epochs+1), history.history[\"loss\"], label=\"training\")\n",
        "plt.plot(range(1,epochs+1), history.history[\"val_loss\"], label=\"test\")\n",
        "plt.xlabel(\"Epochs\")\n",
        "plt.ylabels(\"Loss\")\n",
        "plt.grid()\n",
        "plt.legend()\n",
        "plt.show()\n"
      ],
      "execution_count": 15,
      "outputs": [
        {
          "output_type": "error",
          "ename": "NameError",
          "evalue": "ignored",
          "traceback": [
            "\u001b[0;31m---------------------------------------------------------------------------\u001b[0m",
            "\u001b[0;31mNameError\u001b[0m                                 Traceback (most recent call last)",
            "\u001b[0;32m<ipython-input-15-07ebdb3af0f3>\u001b[0m in \u001b[0;36m<module>\u001b[0;34m()\u001b[0m\n\u001b[1;32m      5\u001b[0m \u001b[0mplt\u001b[0m\u001b[0;34m.\u001b[0m\u001b[0mgrid\u001b[0m\u001b[0;34m(\u001b[0m\u001b[0;34m)\u001b[0m\u001b[0;34m\u001b[0m\u001b[0;34m\u001b[0m\u001b[0m\n\u001b[1;32m      6\u001b[0m \u001b[0mplt\u001b[0m\u001b[0;34m.\u001b[0m\u001b[0mlegend\u001b[0m\u001b[0;34m(\u001b[0m\u001b[0;34m)\u001b[0m\u001b[0;34m\u001b[0m\u001b[0;34m\u001b[0m\u001b[0m\n\u001b[0;32m----> 7\u001b[0;31m \u001b[0mplot\u001b[0m\u001b[0;34m.\u001b[0m\u001b[0mshow\u001b[0m\u001b[0;34m(\u001b[0m\u001b[0;34m)\u001b[0m\u001b[0;34m\u001b[0m\u001b[0;34m\u001b[0m\u001b[0m\n\u001b[0m\u001b[1;32m      8\u001b[0m \u001b[0;34m\u001b[0m\u001b[0m\n\u001b[1;32m      9\u001b[0m \u001b[0mplt\u001b[0m\u001b[0;34m.\u001b[0m\u001b[0mplot\u001b[0m\u001b[0;34m(\u001b[0m\u001b[0mrange\u001b[0m\u001b[0;34m(\u001b[0m\u001b[0;36m1\u001b[0m\u001b[0;34m,\u001b[0m \u001b[0mepochs\u001b[0m\u001b[0;34m+\u001b[0m\u001b[0;36m1\u001b[0m\u001b[0;34m)\u001b[0m\u001b[0;34m,\u001b[0m \u001b[0mhistory\u001b[0m\u001b[0;34m.\u001b[0m\u001b[0mhistory\u001b[0m\u001b[0;34m[\u001b[0m\u001b[0;34m\"loss\"\u001b[0m\u001b[0;34m]\u001b[0m\u001b[0;34m,\u001b[0m \u001b[0mlabel\u001b[0m\u001b[0;34m=\u001b[0m\u001b[0;34m\"training\"\u001b[0m\u001b[0;34m)\u001b[0m\u001b[0;34m\u001b[0m\u001b[0;34m\u001b[0m\u001b[0m\n",
            "\u001b[0;31mNameError\u001b[0m: name 'plot' is not defined"
          ]
        },
        {
          "output_type": "display_data",
          "data": {
            "image/png": "[encoded data removed]",
            "text/plain": [
              "<Figure size 432x288 with 1 Axes>"
            ]
          },
          "metadata": {
            "tags": []
          }
        }
      ]
    },
    {
      "cell_type": "code",
      "metadata": {
        "id": "dCJVy_zzbXed",
        "colab_type": "code",
        "colab": {
          "base_uri": "https://localhost:8080/",
          "height": 150
        },
        "outputId": "898676c9-f123-4450-a15c-ac9e7e7f36de"
      },
      "source": [
        "predict_classes = model.predict_classes(x_test)\n",
        "true__classes = np.argmax(y_test, 1)\n",
        "error_indexes = predict_classes != true__classes\n",
        "error_x_test = x_test[error_indexes]\n",
        "error_predict_classes = predict_classes[error_indexes]\n",
        "\n",
        "n = 10\n",
        "plt.figure(figsize=(20, 4))\n",
        "\n",
        "for i in range(n):\n",
        "  ax = plt.subplot(2,n,i+1)\n",
        "  plt.imshow(error_x_test[i].reshape(28, 28))\n",
        "  plt.gray()\n",
        "  ax.get_xaxis().set_visible(False)\n",
        "  ax.get_yaxis().set_visible(False)\n",
        "  plt.title(error_predict_classes[i], fontsize=20)\n",
        "plt.show()"
      ],
      "execution_count": 21,
      "outputs": [
        {
          "output_type": "display_data",
          "data": {
            "image/png": "[encoded data removed]",
            "text/plain": [
              "<Figure size 1440x288 with 10 Axes>"
            ]
          },
          "metadata": {
            "tags": []
          }
        }
      ]
    },
    {
      "cell_type": "code",
      "metadata": {
        "id": "a-QodBImYi5C",
        "colab_type": "code",
        "colab": {}
      },
      "source": [
        ""
      ],
      "execution_count": 0,
      "outputs": []
    }
  ]
}