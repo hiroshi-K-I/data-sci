{
  "nbformat": 4,
  "nbformat_minor": 0,
  "metadata": {
    "colab": {
      "name": "Untitled0.ipynb",
      "provenance": [],
      "collapsed_sections": [],
      "include_colab_link": true
    },
    "kernelspec": {
      "name": "python3",
      "display_name": "Python 3"
    }
  },
  "cells": [
    {
      "cell_type": "markdown",
      "metadata": {
        "id": "view-in-github",
        "colab_type": "text"
      },
      "source": [
        "<a href=\"https://colab.research.google.com/github/hiroshi-K-I/data-sci/blob/master/test_20191101.ipynb\" target=\"_parent\"><img src=\"https://colab.research.google.com/assets/colab-badge.svg\" alt=\"Open In Colab\"/></a>"
      ]
    },
    {
      "cell_type": "code",
      "metadata": {
        "id": "K2s7wrk92Cuj",
        "colab_type": "code",
        "outputId": "9f464c52-f8ab-4146-d6ff-33b653190821",
        "colab": {
          "base_uri": "https://localhost:8080/",
          "height": 396
        }
      },
      "source": [
        "class Card:\n",
        "  suits = [\"spades\", \"hearts\",\"diamonds\",\"clubs\"]\n",
        "\n",
        "  values = [None, None, \n",
        "            \"2\", \"3\", \"4\", \"5\", \"6\", \"7\", \"8\", \"9\", \n",
        "            \"10\" ,\"Jack\", \"Qween\", \"King\", \"Ace\"]\n",
        "            \n",
        "  def __init__(self, v, s):\n",
        "    self.value = v\n",
        "    self.suit = s\n",
        "\n",
        "  def __lt__(self, c2):\n",
        "    if self.value < c2.value:\n",
        "      return true\n",
        "    if self.value == c2.value:\n",
        "      if self.suit < c2.suit:\n",
        "        return True\n",
        "      else:\n",
        "        return False\n",
        "    return False\n",
        "\n",
        "  def __gt__(self, c2):\n",
        "    if self.value > c2.value:\n",
        "      return True\n",
        "    if self.value == c2.value:\n",
        "      if self.suit > c2.suit:\n",
        "        return True\n",
        "      else:\n",
        "        return False\n",
        "    return False\n",
        "\n",
        "  def __repr__(self):\n",
        "    v = self.values[self.value] + \" of \" \\\n",
        "      + self.suits[self.suit]\n",
        "    return v\n",
        "\n",
        "class Deck:\n",
        "  def __init__(self):\n",
        "    self.cards = []\n",
        "    for i in range(2,15):\n",
        "      for j in range(4):\n",
        "        self.cards.append(Card(i ,j))\n",
        "    shuffle(self.cards)\n",
        "\n",
        "  def rm_card(Self):\n",
        "    if len(self.cards) == 0:\n",
        "      return\n",
        "    return self.cards.pop()\n",
        "\n",
        "class Player:\n",
        "  def __init__(self, name):\n",
        "    self.wins = 0\n",
        "    self.cards = None\n",
        "    self.name = name\n",
        "\n",
        "class Game:\n",
        "  def __init__(self):\n",
        "    name1 = input(\"Write player1 name.\")\n",
        "    name2 = input(\"Write player2 name.\")\n",
        "    self.deck = Deck()\n",
        "    self.p1 = Player(name1)\n",
        "    self.p2 = Player(name2)\n",
        "  \n",
        "  def wins(self, winner):\n",
        "    w = \"This round winner is {}!\"\n",
        "    w = w.format(winner)\n",
        "    print(w)\n",
        "\n",
        "  def draw(self, p1n, p1c, p2n, p2c):\n",
        "    d = \"{} gets {}, {} gets {}.\"\n",
        "    d = d.format(p1n, p1c, p2n, p2c)\n",
        "    print(d)\n",
        "\n",
        "  def play_game(self):\n",
        "    cards = self.deck.cards\n",
        "    print(\"Start wars!\")\n",
        "    while len(Cards) >= 2:\n",
        "      m = \"If you want quit game, push q. any other keys is play start.\"\n",
        "      response = input(m)\n",
        "      if response == \"q\":\n",
        "        break\n",
        "      p1c = self.deck.rm_card()\n",
        "      p2c = self.deck.rm_card()\n",
        "      p1n = self.p1.name\n",
        "      p2n = self.p2.name\n",
        "      self.draw(p1n, p1c, p2n, p2c)\n",
        "      if p1c > p2c:\n",
        "        self.p1.wins += 1\n",
        "        self.wins(self.p1.name)\n",
        "      else:\n",
        "        self.p2.wins += 1\n",
        "        self.wins(self.p2.name)\n",
        "\n",
        "      win = self.winner(self.p1, self.p2)\n",
        "      print(\"Game end. {} winner!\",format(win))\n",
        "\n",
        "    def winner(Self, p1, p2):\n",
        "      if p1.wins > p2.wins:\n",
        "        return p1.name\n",
        "      if p1.wins < p2.wins:\n",
        "        return p2.name\n",
        "      return \"Draw!\"\n",
        "\n",
        "game = Game()\n",
        "game.play_game()"
      ],
      "execution_count": 5,
      "outputs": [
        {
          "output_type": "stream",
          "text": [
            "Write player1 name.1\n",
            "Write player2 name.2\n"
          ],
          "name": "stdout"
        },
        {
          "output_type": "error",
          "ename": "NameError",
          "evalue": "ignored",
          "traceback": [
            "\u001b[0;31m---------------------------------------------------------------------------\u001b[0m",
            "\u001b[0;31mNameError\u001b[0m                                 Traceback (most recent call last)",
            "\u001b[0;32m<ipython-input-5-32dc7394c047>\u001b[0m in \u001b[0;36m<module>\u001b[0;34m()\u001b[0m\n\u001b[1;32m    101\u001b[0m       \u001b[0;32mreturn\u001b[0m \u001b[0;34m\"Draw!\"\u001b[0m\u001b[0;34m\u001b[0m\u001b[0;34m\u001b[0m\u001b[0m\n\u001b[1;32m    102\u001b[0m \u001b[0;34m\u001b[0m\u001b[0m\n\u001b[0;32m--> 103\u001b[0;31m \u001b[0mgame\u001b[0m \u001b[0;34m=\u001b[0m \u001b[0mGame\u001b[0m\u001b[0;34m(\u001b[0m\u001b[0;34m)\u001b[0m\u001b[0;34m\u001b[0m\u001b[0;34m\u001b[0m\u001b[0m\n\u001b[0m\u001b[1;32m    104\u001b[0m \u001b[0mgame\u001b[0m\u001b[0;34m.\u001b[0m\u001b[0mplay_game\u001b[0m\u001b[0;34m(\u001b[0m\u001b[0;34m)\u001b[0m\u001b[0;34m\u001b[0m\u001b[0;34m\u001b[0m\u001b[0m\n",
            "\u001b[0;32m<ipython-input-5-32dc7394c047>\u001b[0m in \u001b[0;36m__init__\u001b[0;34m(self)\u001b[0m\n\u001b[1;32m     57\u001b[0m     \u001b[0mname1\u001b[0m \u001b[0;34m=\u001b[0m \u001b[0minput\u001b[0m\u001b[0;34m(\u001b[0m\u001b[0;34m\"Write player1 name.\"\u001b[0m\u001b[0;34m)\u001b[0m\u001b[0;34m\u001b[0m\u001b[0;34m\u001b[0m\u001b[0m\n\u001b[1;32m     58\u001b[0m     \u001b[0mname2\u001b[0m \u001b[0;34m=\u001b[0m \u001b[0minput\u001b[0m\u001b[0;34m(\u001b[0m\u001b[0;34m\"Write player2 name.\"\u001b[0m\u001b[0;34m)\u001b[0m\u001b[0;34m\u001b[0m\u001b[0;34m\u001b[0m\u001b[0m\n\u001b[0;32m---> 59\u001b[0;31m     \u001b[0mself\u001b[0m\u001b[0;34m.\u001b[0m\u001b[0mdeck\u001b[0m \u001b[0;34m=\u001b[0m \u001b[0mDeck\u001b[0m\u001b[0;34m(\u001b[0m\u001b[0;34m)\u001b[0m\u001b[0;34m\u001b[0m\u001b[0;34m\u001b[0m\u001b[0m\n\u001b[0m\u001b[1;32m     60\u001b[0m     \u001b[0mself\u001b[0m\u001b[0;34m.\u001b[0m\u001b[0mp1\u001b[0m \u001b[0;34m=\u001b[0m \u001b[0mPlayer\u001b[0m\u001b[0;34m(\u001b[0m\u001b[0mname1\u001b[0m\u001b[0;34m)\u001b[0m\u001b[0;34m\u001b[0m\u001b[0;34m\u001b[0m\u001b[0m\n\u001b[1;32m     61\u001b[0m     \u001b[0mself\u001b[0m\u001b[0;34m.\u001b[0m\u001b[0mp2\u001b[0m \u001b[0;34m=\u001b[0m \u001b[0mPlayer\u001b[0m\u001b[0;34m(\u001b[0m\u001b[0mname2\u001b[0m\u001b[0;34m)\u001b[0m\u001b[0;34m\u001b[0m\u001b[0;34m\u001b[0m\u001b[0m\n",
            "\u001b[0;32m<ipython-input-5-32dc7394c047>\u001b[0m in \u001b[0;36m__init__\u001b[0;34m(self)\u001b[0m\n\u001b[1;32m     40\u001b[0m       \u001b[0;32mfor\u001b[0m \u001b[0mj\u001b[0m \u001b[0;32min\u001b[0m \u001b[0mrange\u001b[0m\u001b[0;34m(\u001b[0m\u001b[0;36m4\u001b[0m\u001b[0;34m)\u001b[0m\u001b[0;34m:\u001b[0m\u001b[0;34m\u001b[0m\u001b[0;34m\u001b[0m\u001b[0m\n\u001b[1;32m     41\u001b[0m         \u001b[0mself\u001b[0m\u001b[0;34m.\u001b[0m\u001b[0mcards\u001b[0m\u001b[0;34m.\u001b[0m\u001b[0mappend\u001b[0m\u001b[0;34m(\u001b[0m\u001b[0mCard\u001b[0m\u001b[0;34m(\u001b[0m\u001b[0mi\u001b[0m \u001b[0;34m,\u001b[0m\u001b[0mj\u001b[0m\u001b[0;34m)\u001b[0m\u001b[0;34m)\u001b[0m\u001b[0;34m\u001b[0m\u001b[0;34m\u001b[0m\u001b[0m\n\u001b[0;32m---> 42\u001b[0;31m     \u001b[0mshuffle\u001b[0m\u001b[0;34m(\u001b[0m\u001b[0mself\u001b[0m\u001b[0;34m.\u001b[0m\u001b[0mcards\u001b[0m\u001b[0;34m)\u001b[0m\u001b[0;34m\u001b[0m\u001b[0;34m\u001b[0m\u001b[0m\n\u001b[0m\u001b[1;32m     43\u001b[0m \u001b[0;34m\u001b[0m\u001b[0m\n\u001b[1;32m     44\u001b[0m   \u001b[0;32mdef\u001b[0m \u001b[0mrm_card\u001b[0m\u001b[0;34m(\u001b[0m\u001b[0mSelf\u001b[0m\u001b[0;34m)\u001b[0m\u001b[0;34m:\u001b[0m\u001b[0;34m\u001b[0m\u001b[0;34m\u001b[0m\u001b[0m\n",
            "\u001b[0;31mNameError\u001b[0m: name 'shuffle' is not defined"
          ]
        }
      ]
    },
    {
      "cell_type": "code",
      "metadata": {
        "id": "Y5_qUhYU8Dmz",
        "colab_type": "code",
        "colab": {}
      },
      "source": [
        ""
      ],
      "execution_count": 0,
      "outputs": []
    }
  ]
}